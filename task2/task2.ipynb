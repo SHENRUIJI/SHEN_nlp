{
 "cells": [
  {
   "cell_type": "markdown",
   "source": [
    "# Распаковать файлы и загрузить данные."
   ],
   "metadata": {
    "collapsed": false
   },
   "id": "a349c891ef0fc0f6"
  },
  {
   "cell_type": "code",
   "execution_count": 5,
   "id": "initial_id",
   "metadata": {
    "collapsed": true,
    "ExecuteTime": {
     "end_time": "2024-12-06T07:17:51.685883700Z",
     "start_time": "2024-12-06T07:17:51.356560400Z"
    }
   },
   "outputs": [],
   "source": [
    "import gzip\n",
    "import pandas as pd\n",
    "\n",
    "def load_data_from_gz(gz_path):\n",
    "    with gzip.open(gz_path, 'rt', encoding='utf-8') as gz_file:\n",
    "        file_content = gz_file.read().strip()\n",
    "    \n",
    "    data = [line.split('\\t') for line in file_content.splitlines() if len(line.split('\\t')) == 3]\n",
    "    df = pd.DataFrame(data, columns=['category', 'title', 'content'])\n",
    "    return df\n",
    "\n",
    "\n",
    "df = load_data_from_gz(r\"D:\\Projects\\Pycharm_projects\\NLP\\news.txt.gz\")"
   ]
  },
  {
   "cell_type": "markdown",
   "source": [
    "# Предобработка текстовых данных."
   ],
   "metadata": {
    "collapsed": false
   },
   "id": "7d5dc586be0f58c2"
  },
  {
   "cell_type": "code",
   "execution_count": 8,
   "outputs": [],
   "source": [
    "from pymorphy2 import MorphAnalyzer\n",
    "from gensim.utils import simple_preprocess\n",
    "import re\n",
    "\n",
    "morph = MorphAnalyzer()\n",
    "\n",
    "# 定义一个函数来进行词形还原和去除停用词\n",
    "def preprocess(text, stopwords=None):\n",
    "    text_cleaned = re.sub(r'[^а-яА-Я]', ' ', text.lower())\n",
    "    words = simple_preprocess(text_cleaned, deacc=True)\n",
    "    lemmatized_words = [morph.parse(word)[0].normal_form for word in words]\n",
    "\n",
    "    if stopwords:\n",
    "        lemmatized_words = [word for word in lemmatized_words if word not in stopwords]\n",
    "    return lemmatized_words\n",
    "\n",
    "\n",
    "russian_stopwords = set(['и', 'в', 'во', 'не', 'что', 'он', 'на', 'я', 'с', 'со', 'как', 'а', 'то', 'все', 'она', \n",
    "                         'так', 'его', 'но', 'для', 'около', 'же', 'теперь', 'быть', 'бывать', 'этот', 'вот', \n",
    "                         'чем', 'еще', 'мочь', 'тот', 'когда', 'другой', 'первыи', 'ж', 'там', 'себя'])\n",
    "\n",
    "\n",
    "df['preprocessed_content'] = df['content'].apply(lambda x: preprocess(x, russian_stopwords))"
   ],
   "metadata": {
    "collapsed": false,
    "ExecuteTime": {
     "end_time": "2024-12-06T07:39:00.665073900Z",
     "start_time": "2024-12-06T07:36:41.933629600Z"
    }
   },
   "id": "6bedc7717be39030"
  },
  {
   "cell_type": "markdown",
   "source": [
    "# Обучение модели Word2Vec с использованием предобработанных данных."
   ],
   "metadata": {
    "collapsed": false
   },
   "id": "a909c45180cef8dd"
  },
  {
   "cell_type": "code",
   "execution_count": 9,
   "outputs": [],
   "source": [
    "from gensim.models import Word2Vec\n",
    "\n",
    "# 使用预处理后的内容训练Word2Vec模型\n",
    "model = Word2Vec(sentences=df['preprocessed_content'], vector_size=100, window=5, min_count=1, workers=4)\n",
    "model.save(\"word2vec.model\")"
   ],
   "metadata": {
    "collapsed": false,
    "ExecuteTime": {
     "end_time": "2024-12-06T07:40:29.479018300Z",
     "start_time": "2024-12-06T07:40:25.570447500Z"
    }
   },
   "id": "db5f0fda360d0dcc"
  },
  {
   "cell_type": "markdown",
   "source": [
    "# Разделение набора данных"
   ],
   "metadata": {
    "collapsed": false
   },
   "id": "3d264b9bb36f285e"
  },
  {
   "cell_type": "code",
   "execution_count": 10,
   "outputs": [],
   "source": [
    "from sklearn.model_selection import train_test_split\n",
    "\n",
    "X_train, X_test, y_train, y_test = train_test_split(df['preprocessed_content'], df['category'], test_size=0.2, random_state=42)"
   ],
   "metadata": {
    "collapsed": false,
    "ExecuteTime": {
     "end_time": "2024-12-06T07:40:41.218966Z",
     "start_time": "2024-12-06T07:40:41.202022700Z"
    }
   },
   "id": "715a77b1f13e7feb"
  },
  {
   "cell_type": "markdown",
   "source": [
    "# Векторизация документа."
   ],
   "metadata": {
    "collapsed": false
   },
   "id": "b49e05ab729284f3"
  },
  {
   "cell_type": "code",
   "execution_count": 13,
   "outputs": [],
   "source": [
    "from sklearn.feature_extraction.text import TfidfVectorizer\n",
    "import numpy as np\n",
    "\n",
    "raw_texts_train = [' '.join(doc) for doc in X_train]\n",
    "raw_texts_test = [' '.join(doc) for doc in X_test]\n",
    "\n",
    "vectorizer = TfidfVectorizer()\n",
    "tfidf_matrix_train = vectorizer.fit_transform(raw_texts_train)\n",
    "tfidf_matrix_test = vectorizer.transform(raw_texts_test)\n",
    "\n",
    "feature_names = vectorizer.get_feature_names_out()\n",
    "\n",
    "# 创建一个字典，用于快速查找词和其对应的TF-IDF值\n",
    "def create_tfidf_weight_dict(tfidf_matrix, feature_names):\n",
    "    docs_num = tfidf_matrix.shape[0]\n",
    "    tfidf_weights = {}\n",
    "    for doc_index in range(docs_num):\n",
    "        feature_index = tfidf_matrix[doc_index, :].nonzero()[1]\n",
    "        tfidf_scores = zip([feature_names[i] for i in feature_index], [tfidf_matrix[doc_index, x] for x in feature_index])\n",
    "        tfidf_weights[doc_index] = dict(tfidf_scores)\n",
    "    return tfidf_weights\n",
    "\n",
    "tfidf_weights_train = create_tfidf_weight_dict(tfidf_matrix_train, feature_names)\n",
    "tfidf_weights_test = create_tfidf_weight_dict(tfidf_matrix_test, feature_names)\n",
    "\n",
    "def doc_vector_tfidf_weighted(doc, model, tfidf_weights_doc, model_vector_size):\n",
    "    weights = tfidf_weights_doc\n",
    "    weighted_words = [word for word in doc if word in model.wv and word in weights]\n",
    "    \n",
    "    if not weighted_words:\n",
    "        return np.zeros(model_vector_size)\n",
    "    \n",
    "    weighted_vectors = [model.wv[word] * weights.get(word, 0) for word in weighted_words]\n",
    "    return np.mean(weighted_vectors, axis=0)\n",
    "\n",
    "X_train_vectors_tfidf = np.array([doc_vector_tfidf_weighted(doc, model, tfidf_weights_train[i], model.vector_size) for i, doc in enumerate(X_train)])\n",
    "X_test_vectors_tfidf = np.array([doc_vector_tfidf_weighted(doc, model, tfidf_weights_test[i], model.vector_size) for i, doc in enumerate(X_test)])\n"
   ],
   "metadata": {
    "collapsed": false,
    "ExecuteTime": {
     "end_time": "2024-12-06T07:56:34.887184500Z",
     "start_time": "2024-12-06T07:56:18.439701300Z"
    }
   },
   "id": "dcca1b25c247bbd5"
  },
  {
   "cell_type": "markdown",
   "source": [
    "##  Применение метода SMOTE для увеличения выборки, балансировка данных, оптимизация параметров SVM с использованием кросс-валидации и обучение модели SVM."
   ],
   "metadata": {
    "collapsed": false
   },
   "id": "a6e6e8383e0280d"
  },
  {
   "cell_type": "code",
   "execution_count": 16,
   "outputs": [
    {
     "name": "stdout",
     "output_type": "stream",
     "text": [
      "Fitting 5 folds for each of 32 candidates, totalling 160 fits\n",
      "[CV] END ......................C=0.1, gamma=1, kernel=linear; total time=  24.5s\n",
      "[CV] END ......................C=0.1, gamma=1, kernel=linear; total time=  18.7s\n",
      "[CV] END ......................C=0.1, gamma=1, kernel=linear; total time=  13.4s\n",
      "[CV] END ......................C=0.1, gamma=1, kernel=linear; total time=  13.7s\n",
      "[CV] END ......................C=0.1, gamma=1, kernel=linear; total time=  13.6s\n",
      "[CV] END .........................C=0.1, gamma=1, kernel=rbf; total time=  12.8s\n",
      "[CV] END .........................C=0.1, gamma=1, kernel=rbf; total time=  13.0s\n",
      "[CV] END .........................C=0.1, gamma=1, kernel=rbf; total time=  12.9s\n",
      "[CV] END .........................C=0.1, gamma=1, kernel=rbf; total time=  13.1s\n",
      "[CV] END .........................C=0.1, gamma=1, kernel=rbf; total time=  13.0s\n",
      "[CV] END ....................C=0.1, gamma=0.1, kernel=linear; total time=  13.6s\n",
      "[CV] END ....................C=0.1, gamma=0.1, kernel=linear; total time=  13.6s\n",
      "[CV] END ....................C=0.1, gamma=0.1, kernel=linear; total time=  13.9s\n",
      "[CV] END ....................C=0.1, gamma=0.1, kernel=linear; total time=  13.8s\n",
      "[CV] END ....................C=0.1, gamma=0.1, kernel=linear; total time=  14.0s\n",
      "[CV] END .......................C=0.1, gamma=0.1, kernel=rbf; total time=  20.1s\n",
      "[CV] END .......................C=0.1, gamma=0.1, kernel=rbf; total time=  20.0s\n",
      "[CV] END .......................C=0.1, gamma=0.1, kernel=rbf; total time=  20.0s\n",
      "[CV] END .......................C=0.1, gamma=0.1, kernel=rbf; total time=  20.1s\n",
      "[CV] END .......................C=0.1, gamma=0.1, kernel=rbf; total time=  20.6s\n",
      "[CV] END ...................C=0.1, gamma=0.01, kernel=linear; total time=  13.4s\n",
      "[CV] END ...................C=0.1, gamma=0.01, kernel=linear; total time=  13.6s\n",
      "[CV] END ...................C=0.1, gamma=0.01, kernel=linear; total time=  13.5s\n",
      "[CV] END ...................C=0.1, gamma=0.01, kernel=linear; total time=  13.6s\n",
      "[CV] END ...................C=0.1, gamma=0.01, kernel=linear; total time=  13.8s\n",
      "[CV] END ......................C=0.1, gamma=0.01, kernel=rbf; total time=  21.1s\n",
      "[CV] END ......................C=0.1, gamma=0.01, kernel=rbf; total time=  21.0s\n",
      "[CV] END ......................C=0.1, gamma=0.01, kernel=rbf; total time=  21.0s\n",
      "[CV] END ......................C=0.1, gamma=0.01, kernel=rbf; total time=  21.1s\n",
      "[CV] END ......................C=0.1, gamma=0.01, kernel=rbf; total time=  20.9s\n",
      "[CV] END ..................C=0.1, gamma=0.001, kernel=linear; total time=  13.5s\n",
      "[CV] END ..................C=0.1, gamma=0.001, kernel=linear; total time=  13.6s\n",
      "[CV] END ..................C=0.1, gamma=0.001, kernel=linear; total time=  13.5s\n",
      "[CV] END ..................C=0.1, gamma=0.001, kernel=linear; total time=  13.9s\n",
      "[CV] END ..................C=0.1, gamma=0.001, kernel=linear; total time=  13.8s\n",
      "[CV] END .....................C=0.1, gamma=0.001, kernel=rbf; total time=  21.4s\n",
      "[CV] END .....................C=0.1, gamma=0.001, kernel=rbf; total time=  21.8s\n",
      "[CV] END .....................C=0.1, gamma=0.001, kernel=rbf; total time=  21.3s\n",
      "[CV] END .....................C=0.1, gamma=0.001, kernel=rbf; total time=  21.2s\n",
      "[CV] END .....................C=0.1, gamma=0.001, kernel=rbf; total time=  21.0s\n",
      "[CV] END ........................C=1, gamma=1, kernel=linear; total time=   7.6s\n",
      "[CV] END ........................C=1, gamma=1, kernel=linear; total time=   7.8s\n",
      "[CV] END ........................C=1, gamma=1, kernel=linear; total time=   7.8s\n",
      "[CV] END ........................C=1, gamma=1, kernel=linear; total time=   7.9s\n",
      "[CV] END ........................C=1, gamma=1, kernel=linear; total time=   8.0s\n",
      "[CV] END ...........................C=1, gamma=1, kernel=rbf; total time=   7.7s\n",
      "[CV] END ...........................C=1, gamma=1, kernel=rbf; total time=   8.1s\n",
      "[CV] END ...........................C=1, gamma=1, kernel=rbf; total time=   7.6s\n",
      "[CV] END ...........................C=1, gamma=1, kernel=rbf; total time=   7.6s\n",
      "[CV] END ...........................C=1, gamma=1, kernel=rbf; total time=   7.6s\n",
      "[CV] END ......................C=1, gamma=0.1, kernel=linear; total time=   7.5s\n",
      "[CV] END ......................C=1, gamma=0.1, kernel=linear; total time=   7.7s\n",
      "[CV] END ......................C=1, gamma=0.1, kernel=linear; total time=   7.7s\n",
      "[CV] END ......................C=1, gamma=0.1, kernel=linear; total time=   7.6s\n",
      "[CV] END ......................C=1, gamma=0.1, kernel=linear; total time=   7.8s\n",
      "[CV] END .........................C=1, gamma=0.1, kernel=rbf; total time=  13.0s\n",
      "[CV] END .........................C=1, gamma=0.1, kernel=rbf; total time=  13.0s\n",
      "[CV] END .........................C=1, gamma=0.1, kernel=rbf; total time=  13.4s\n",
      "[CV] END .........................C=1, gamma=0.1, kernel=rbf; total time=  13.0s\n",
      "[CV] END .........................C=1, gamma=0.1, kernel=rbf; total time=  13.1s\n",
      "[CV] END .....................C=1, gamma=0.01, kernel=linear; total time=   7.8s\n",
      "[CV] END .....................C=1, gamma=0.01, kernel=linear; total time=   7.9s\n",
      "[CV] END .....................C=1, gamma=0.01, kernel=linear; total time=   7.8s\n",
      "[CV] END .....................C=1, gamma=0.01, kernel=linear; total time=   7.8s\n",
      "[CV] END .....................C=1, gamma=0.01, kernel=linear; total time=   7.9s\n",
      "[CV] END ........................C=1, gamma=0.01, kernel=rbf; total time=  20.1s\n",
      "[CV] END ........................C=1, gamma=0.01, kernel=rbf; total time=  20.1s\n",
      "[CV] END ........................C=1, gamma=0.01, kernel=rbf; total time=  20.2s\n",
      "[CV] END ........................C=1, gamma=0.01, kernel=rbf; total time=  20.2s\n",
      "[CV] END ........................C=1, gamma=0.01, kernel=rbf; total time=  20.0s\n",
      "[CV] END ....................C=1, gamma=0.001, kernel=linear; total time=   7.8s\n",
      "[CV] END ....................C=1, gamma=0.001, kernel=linear; total time=   7.7s\n",
      "[CV] END ....................C=1, gamma=0.001, kernel=linear; total time=   7.8s\n",
      "[CV] END ....................C=1, gamma=0.001, kernel=linear; total time=   7.9s\n",
      "[CV] END ....................C=1, gamma=0.001, kernel=linear; total time=   7.7s\n",
      "[CV] END .......................C=1, gamma=0.001, kernel=rbf; total time=  21.2s\n",
      "[CV] END .......................C=1, gamma=0.001, kernel=rbf; total time=  21.3s\n",
      "[CV] END .......................C=1, gamma=0.001, kernel=rbf; total time=  21.6s\n",
      "[CV] END .......................C=1, gamma=0.001, kernel=rbf; total time=  21.4s\n",
      "[CV] END .......................C=1, gamma=0.001, kernel=rbf; total time=  21.4s\n",
      "[CV] END .......................C=10, gamma=1, kernel=linear; total time=   5.0s\n",
      "[CV] END .......................C=10, gamma=1, kernel=linear; total time=   5.1s\n",
      "[CV] END .......................C=10, gamma=1, kernel=linear; total time=   5.0s\n",
      "[CV] END .......................C=10, gamma=1, kernel=linear; total time=   5.0s\n",
      "[CV] END .......................C=10, gamma=1, kernel=linear; total time=   5.1s\n",
      "[CV] END ..........................C=10, gamma=1, kernel=rbf; total time=   5.1s\n",
      "[CV] END ..........................C=10, gamma=1, kernel=rbf; total time=   5.3s\n",
      "[CV] END ..........................C=10, gamma=1, kernel=rbf; total time=   5.1s\n",
      "[CV] END ..........................C=10, gamma=1, kernel=rbf; total time=   5.2s\n",
      "[CV] END ..........................C=10, gamma=1, kernel=rbf; total time=   5.2s\n",
      "[CV] END .....................C=10, gamma=0.1, kernel=linear; total time=   5.0s\n",
      "[CV] END .....................C=10, gamma=0.1, kernel=linear; total time=   5.0s\n",
      "[CV] END .....................C=10, gamma=0.1, kernel=linear; total time=   4.9s\n",
      "[CV] END .....................C=10, gamma=0.1, kernel=linear; total time=   5.1s\n",
      "[CV] END .....................C=10, gamma=0.1, kernel=linear; total time=   5.0s\n",
      "[CV] END ........................C=10, gamma=0.1, kernel=rbf; total time=   7.7s\n",
      "[CV] END ........................C=10, gamma=0.1, kernel=rbf; total time=   7.5s\n",
      "[CV] END ........................C=10, gamma=0.1, kernel=rbf; total time=   7.7s\n",
      "[CV] END ........................C=10, gamma=0.1, kernel=rbf; total time=   7.7s\n",
      "[CV] END ........................C=10, gamma=0.1, kernel=rbf; total time=   7.6s\n",
      "[CV] END ....................C=10, gamma=0.01, kernel=linear; total time=   4.9s\n",
      "[CV] END ....................C=10, gamma=0.01, kernel=linear; total time=   5.0s\n",
      "[CV] END ....................C=10, gamma=0.01, kernel=linear; total time=   5.0s\n",
      "[CV] END ....................C=10, gamma=0.01, kernel=linear; total time=   5.1s\n",
      "[CV] END ....................C=10, gamma=0.01, kernel=linear; total time=   4.9s\n",
      "[CV] END .......................C=10, gamma=0.01, kernel=rbf; total time=  13.0s\n",
      "[CV] END .......................C=10, gamma=0.01, kernel=rbf; total time=  12.8s\n",
      "[CV] END .......................C=10, gamma=0.01, kernel=rbf; total time=  13.1s\n",
      "[CV] END .......................C=10, gamma=0.01, kernel=rbf; total time=  12.9s\n",
      "[CV] END .......................C=10, gamma=0.01, kernel=rbf; total time=  13.2s\n",
      "[CV] END ...................C=10, gamma=0.001, kernel=linear; total time=   5.0s\n",
      "[CV] END ...................C=10, gamma=0.001, kernel=linear; total time=   5.0s\n",
      "[CV] END ...................C=10, gamma=0.001, kernel=linear; total time=   5.0s\n",
      "[CV] END ...................C=10, gamma=0.001, kernel=linear; total time=   5.1s\n",
      "[CV] END ...................C=10, gamma=0.001, kernel=linear; total time=   5.1s\n",
      "[CV] END ......................C=10, gamma=0.001, kernel=rbf; total time=  20.1s\n",
      "[CV] END ......................C=10, gamma=0.001, kernel=rbf; total time=  20.3s\n",
      "[CV] END ......................C=10, gamma=0.001, kernel=rbf; total time=  20.2s\n",
      "[CV] END ......................C=10, gamma=0.001, kernel=rbf; total time=  20.3s\n",
      "[CV] END ......................C=10, gamma=0.001, kernel=rbf; total time=  20.3s\n",
      "[CV] END ......................C=100, gamma=1, kernel=linear; total time=   4.0s\n",
      "[CV] END ......................C=100, gamma=1, kernel=linear; total time=   4.0s\n",
      "[CV] END ......................C=100, gamma=1, kernel=linear; total time=   4.0s\n",
      "[CV] END ......................C=100, gamma=1, kernel=linear; total time=   4.1s\n",
      "[CV] END ......................C=100, gamma=1, kernel=linear; total time=   4.2s\n",
      "[CV] END .........................C=100, gamma=1, kernel=rbf; total time=   4.2s\n",
      "[CV] END .........................C=100, gamma=1, kernel=rbf; total time=   4.3s\n",
      "[CV] END .........................C=100, gamma=1, kernel=rbf; total time=   4.3s\n",
      "[CV] END .........................C=100, gamma=1, kernel=rbf; total time=   4.3s\n",
      "[CV] END .........................C=100, gamma=1, kernel=rbf; total time=   4.3s\n",
      "[CV] END ....................C=100, gamma=0.1, kernel=linear; total time=   4.0s\n",
      "[CV] END ....................C=100, gamma=0.1, kernel=linear; total time=   4.0s\n",
      "[CV] END ....................C=100, gamma=0.1, kernel=linear; total time=   4.1s\n",
      "[CV] END ....................C=100, gamma=0.1, kernel=linear; total time=   4.0s\n",
      "[CV] END ....................C=100, gamma=0.1, kernel=linear; total time=   4.0s\n",
      "[CV] END .......................C=100, gamma=0.1, kernel=rbf; total time=   5.2s\n",
      "[CV] END .......................C=100, gamma=0.1, kernel=rbf; total time=   5.3s\n",
      "[CV] END .......................C=100, gamma=0.1, kernel=rbf; total time=   5.4s\n",
      "[CV] END .......................C=100, gamma=0.1, kernel=rbf; total time=   5.2s\n",
      "[CV] END .......................C=100, gamma=0.1, kernel=rbf; total time=   5.3s\n",
      "[CV] END ...................C=100, gamma=0.01, kernel=linear; total time=   4.0s\n",
      "[CV] END ...................C=100, gamma=0.01, kernel=linear; total time=   4.1s\n",
      "[CV] END ...................C=100, gamma=0.01, kernel=linear; total time=   4.1s\n",
      "[CV] END ...................C=100, gamma=0.01, kernel=linear; total time=   4.1s\n",
      "[CV] END ...................C=100, gamma=0.01, kernel=linear; total time=   4.0s\n",
      "[CV] END ......................C=100, gamma=0.01, kernel=rbf; total time=   7.8s\n",
      "[CV] END ......................C=100, gamma=0.01, kernel=rbf; total time=   7.8s\n",
      "[CV] END ......................C=100, gamma=0.01, kernel=rbf; total time=   7.7s\n",
      "[CV] END ......................C=100, gamma=0.01, kernel=rbf; total time=   7.8s\n",
      "[CV] END ......................C=100, gamma=0.01, kernel=rbf; total time=   7.7s\n",
      "[CV] END ..................C=100, gamma=0.001, kernel=linear; total time=   4.0s\n",
      "[CV] END ..................C=100, gamma=0.001, kernel=linear; total time=   4.0s\n",
      "[CV] END ..................C=100, gamma=0.001, kernel=linear; total time=   4.0s\n",
      "[CV] END ..................C=100, gamma=0.001, kernel=linear; total time=   4.1s\n",
      "[CV] END ..................C=100, gamma=0.001, kernel=linear; total time=   4.1s\n",
      "[CV] END .....................C=100, gamma=0.001, kernel=rbf; total time=  13.1s\n",
      "[CV] END .....................C=100, gamma=0.001, kernel=rbf; total time=  13.0s\n",
      "[CV] END .....................C=100, gamma=0.001, kernel=rbf; total time=  12.9s\n",
      "[CV] END .....................C=100, gamma=0.001, kernel=rbf; total time=  13.1s\n",
      "[CV] END .....................C=100, gamma=0.001, kernel=rbf; total time=  13.0s\n",
      "Best parameters found:  {'C': 100, 'gamma': 1, 'kernel': 'rbf'}\n"
     ]
    },
    {
     "data": {
      "text/plain": "SVC(C=100, gamma=1)",
      "text/html": "<style>#sk-container-id-2 {\n  /* Definition of color scheme common for light and dark mode */\n  --sklearn-color-text: black;\n  --sklearn-color-line: gray;\n  /* Definition of color scheme for unfitted estimators */\n  --sklearn-color-unfitted-level-0: #fff5e6;\n  --sklearn-color-unfitted-level-1: #f6e4d2;\n  --sklearn-color-unfitted-level-2: #ffe0b3;\n  --sklearn-color-unfitted-level-3: chocolate;\n  /* Definition of color scheme for fitted estimators */\n  --sklearn-color-fitted-level-0: #f0f8ff;\n  --sklearn-color-fitted-level-1: #d4ebff;\n  --sklearn-color-fitted-level-2: #b3dbfd;\n  --sklearn-color-fitted-level-3: cornflowerblue;\n\n  /* Specific color for light theme */\n  --sklearn-color-text-on-default-background: var(--sg-text-color, var(--theme-code-foreground, var(--jp-content-font-color1, black)));\n  --sklearn-color-background: var(--sg-background-color, var(--theme-background, var(--jp-layout-color0, white)));\n  --sklearn-color-border-box: var(--sg-text-color, var(--theme-code-foreground, var(--jp-content-font-color1, black)));\n  --sklearn-color-icon: #696969;\n\n  @media (prefers-color-scheme: dark) {\n    /* Redefinition of color scheme for dark theme */\n    --sklearn-color-text-on-default-background: var(--sg-text-color, var(--theme-code-foreground, var(--jp-content-font-color1, white)));\n    --sklearn-color-background: var(--sg-background-color, var(--theme-background, var(--jp-layout-color0, #111)));\n    --sklearn-color-border-box: var(--sg-text-color, var(--theme-code-foreground, var(--jp-content-font-color1, white)));\n    --sklearn-color-icon: #878787;\n  }\n}\n\n#sk-container-id-2 {\n  color: var(--sklearn-color-text);\n}\n\n#sk-container-id-2 pre {\n  padding: 0;\n}\n\n#sk-container-id-2 input.sk-hidden--visually {\n  border: 0;\n  clip: rect(1px 1px 1px 1px);\n  clip: rect(1px, 1px, 1px, 1px);\n  height: 1px;\n  margin: -1px;\n  overflow: hidden;\n  padding: 0;\n  position: absolute;\n  width: 1px;\n}\n\n#sk-container-id-2 div.sk-dashed-wrapped {\n  border: 1px dashed var(--sklearn-color-line);\n  margin: 0 0.4em 0.5em 0.4em;\n  box-sizing: border-box;\n  padding-bottom: 0.4em;\n  background-color: var(--sklearn-color-background);\n}\n\n#sk-container-id-2 div.sk-container {\n  /* jupyter's `normalize.less` sets `[hidden] { display: none; }`\n     but bootstrap.min.css set `[hidden] { display: none !important; }`\n     so we also need the `!important` here to be able to override the\n     default hidden behavior on the sphinx rendered scikit-learn.org.\n     See: https://github.com/scikit-learn/scikit-learn/issues/21755 */\n  display: inline-block !important;\n  position: relative;\n}\n\n#sk-container-id-2 div.sk-text-repr-fallback {\n  display: none;\n}\n\ndiv.sk-parallel-item,\ndiv.sk-serial,\ndiv.sk-item {\n  /* draw centered vertical line to link estimators */\n  background-image: linear-gradient(var(--sklearn-color-text-on-default-background), var(--sklearn-color-text-on-default-background));\n  background-size: 2px 100%;\n  background-repeat: no-repeat;\n  background-position: center center;\n}\n\n/* Parallel-specific style estimator block */\n\n#sk-container-id-2 div.sk-parallel-item::after {\n  content: \"\";\n  width: 100%;\n  border-bottom: 2px solid var(--sklearn-color-text-on-default-background);\n  flex-grow: 1;\n}\n\n#sk-container-id-2 div.sk-parallel {\n  display: flex;\n  align-items: stretch;\n  justify-content: center;\n  background-color: var(--sklearn-color-background);\n  position: relative;\n}\n\n#sk-container-id-2 div.sk-parallel-item {\n  display: flex;\n  flex-direction: column;\n}\n\n#sk-container-id-2 div.sk-parallel-item:first-child::after {\n  align-self: flex-end;\n  width: 50%;\n}\n\n#sk-container-id-2 div.sk-parallel-item:last-child::after {\n  align-self: flex-start;\n  width: 50%;\n}\n\n#sk-container-id-2 div.sk-parallel-item:only-child::after {\n  width: 0;\n}\n\n/* Serial-specific style estimator block */\n\n#sk-container-id-2 div.sk-serial {\n  display: flex;\n  flex-direction: column;\n  align-items: center;\n  background-color: var(--sklearn-color-background);\n  padding-right: 1em;\n  padding-left: 1em;\n}\n\n\n/* Toggleable style: style used for estimator/Pipeline/ColumnTransformer box that is\nclickable and can be expanded/collapsed.\n- Pipeline and ColumnTransformer use this feature and define the default style\n- Estimators will overwrite some part of the style using the `sk-estimator` class\n*/\n\n/* Pipeline and ColumnTransformer style (default) */\n\n#sk-container-id-2 div.sk-toggleable {\n  /* Default theme specific background. It is overwritten whether we have a\n  specific estimator or a Pipeline/ColumnTransformer */\n  background-color: var(--sklearn-color-background);\n}\n\n/* Toggleable label */\n#sk-container-id-2 label.sk-toggleable__label {\n  cursor: pointer;\n  display: block;\n  width: 100%;\n  margin-bottom: 0;\n  padding: 0.5em;\n  box-sizing: border-box;\n  text-align: center;\n}\n\n#sk-container-id-2 label.sk-toggleable__label-arrow:before {\n  /* Arrow on the left of the label */\n  content: \"▸\";\n  float: left;\n  margin-right: 0.25em;\n  color: var(--sklearn-color-icon);\n}\n\n#sk-container-id-2 label.sk-toggleable__label-arrow:hover:before {\n  color: var(--sklearn-color-text);\n}\n\n/* Toggleable content - dropdown */\n\n#sk-container-id-2 div.sk-toggleable__content {\n  max-height: 0;\n  max-width: 0;\n  overflow: hidden;\n  text-align: left;\n  /* unfitted */\n  background-color: var(--sklearn-color-unfitted-level-0);\n}\n\n#sk-container-id-2 div.sk-toggleable__content.fitted {\n  /* fitted */\n  background-color: var(--sklearn-color-fitted-level-0);\n}\n\n#sk-container-id-2 div.sk-toggleable__content pre {\n  margin: 0.2em;\n  border-radius: 0.25em;\n  color: var(--sklearn-color-text);\n  /* unfitted */\n  background-color: var(--sklearn-color-unfitted-level-0);\n}\n\n#sk-container-id-2 div.sk-toggleable__content.fitted pre {\n  /* unfitted */\n  background-color: var(--sklearn-color-fitted-level-0);\n}\n\n#sk-container-id-2 input.sk-toggleable__control:checked~div.sk-toggleable__content {\n  /* Expand drop-down */\n  max-height: 200px;\n  max-width: 100%;\n  overflow: auto;\n}\n\n#sk-container-id-2 input.sk-toggleable__control:checked~label.sk-toggleable__label-arrow:before {\n  content: \"▾\";\n}\n\n/* Pipeline/ColumnTransformer-specific style */\n\n#sk-container-id-2 div.sk-label input.sk-toggleable__control:checked~label.sk-toggleable__label {\n  color: var(--sklearn-color-text);\n  background-color: var(--sklearn-color-unfitted-level-2);\n}\n\n#sk-container-id-2 div.sk-label.fitted input.sk-toggleable__control:checked~label.sk-toggleable__label {\n  background-color: var(--sklearn-color-fitted-level-2);\n}\n\n/* Estimator-specific style */\n\n/* Colorize estimator box */\n#sk-container-id-2 div.sk-estimator input.sk-toggleable__control:checked~label.sk-toggleable__label {\n  /* unfitted */\n  background-color: var(--sklearn-color-unfitted-level-2);\n}\n\n#sk-container-id-2 div.sk-estimator.fitted input.sk-toggleable__control:checked~label.sk-toggleable__label {\n  /* fitted */\n  background-color: var(--sklearn-color-fitted-level-2);\n}\n\n#sk-container-id-2 div.sk-label label.sk-toggleable__label,\n#sk-container-id-2 div.sk-label label {\n  /* The background is the default theme color */\n  color: var(--sklearn-color-text-on-default-background);\n}\n\n/* On hover, darken the color of the background */\n#sk-container-id-2 div.sk-label:hover label.sk-toggleable__label {\n  color: var(--sklearn-color-text);\n  background-color: var(--sklearn-color-unfitted-level-2);\n}\n\n/* Label box, darken color on hover, fitted */\n#sk-container-id-2 div.sk-label.fitted:hover label.sk-toggleable__label.fitted {\n  color: var(--sklearn-color-text);\n  background-color: var(--sklearn-color-fitted-level-2);\n}\n\n/* Estimator label */\n\n#sk-container-id-2 div.sk-label label {\n  font-family: monospace;\n  font-weight: bold;\n  display: inline-block;\n  line-height: 1.2em;\n}\n\n#sk-container-id-2 div.sk-label-container {\n  text-align: center;\n}\n\n/* Estimator-specific */\n#sk-container-id-2 div.sk-estimator {\n  font-family: monospace;\n  border: 1px dotted var(--sklearn-color-border-box);\n  border-radius: 0.25em;\n  box-sizing: border-box;\n  margin-bottom: 0.5em;\n  /* unfitted */\n  background-color: var(--sklearn-color-unfitted-level-0);\n}\n\n#sk-container-id-2 div.sk-estimator.fitted {\n  /* fitted */\n  background-color: var(--sklearn-color-fitted-level-0);\n}\n\n/* on hover */\n#sk-container-id-2 div.sk-estimator:hover {\n  /* unfitted */\n  background-color: var(--sklearn-color-unfitted-level-2);\n}\n\n#sk-container-id-2 div.sk-estimator.fitted:hover {\n  /* fitted */\n  background-color: var(--sklearn-color-fitted-level-2);\n}\n\n/* Specification for estimator info (e.g. \"i\" and \"?\") */\n\n/* Common style for \"i\" and \"?\" */\n\n.sk-estimator-doc-link,\na:link.sk-estimator-doc-link,\na:visited.sk-estimator-doc-link {\n  float: right;\n  font-size: smaller;\n  line-height: 1em;\n  font-family: monospace;\n  background-color: var(--sklearn-color-background);\n  border-radius: 1em;\n  height: 1em;\n  width: 1em;\n  text-decoration: none !important;\n  margin-left: 1ex;\n  /* unfitted */\n  border: var(--sklearn-color-unfitted-level-1) 1pt solid;\n  color: var(--sklearn-color-unfitted-level-1);\n}\n\n.sk-estimator-doc-link.fitted,\na:link.sk-estimator-doc-link.fitted,\na:visited.sk-estimator-doc-link.fitted {\n  /* fitted */\n  border: var(--sklearn-color-fitted-level-1) 1pt solid;\n  color: var(--sklearn-color-fitted-level-1);\n}\n\n/* On hover */\ndiv.sk-estimator:hover .sk-estimator-doc-link:hover,\n.sk-estimator-doc-link:hover,\ndiv.sk-label-container:hover .sk-estimator-doc-link:hover,\n.sk-estimator-doc-link:hover {\n  /* unfitted */\n  background-color: var(--sklearn-color-unfitted-level-3);\n  color: var(--sklearn-color-background);\n  text-decoration: none;\n}\n\ndiv.sk-estimator.fitted:hover .sk-estimator-doc-link.fitted:hover,\n.sk-estimator-doc-link.fitted:hover,\ndiv.sk-label-container:hover .sk-estimator-doc-link.fitted:hover,\n.sk-estimator-doc-link.fitted:hover {\n  /* fitted */\n  background-color: var(--sklearn-color-fitted-level-3);\n  color: var(--sklearn-color-background);\n  text-decoration: none;\n}\n\n/* Span, style for the box shown on hovering the info icon */\n.sk-estimator-doc-link span {\n  display: none;\n  z-index: 9999;\n  position: relative;\n  font-weight: normal;\n  right: .2ex;\n  padding: .5ex;\n  margin: .5ex;\n  width: min-content;\n  min-width: 20ex;\n  max-width: 50ex;\n  color: var(--sklearn-color-text);\n  box-shadow: 2pt 2pt 4pt #999;\n  /* unfitted */\n  background: var(--sklearn-color-unfitted-level-0);\n  border: .5pt solid var(--sklearn-color-unfitted-level-3);\n}\n\n.sk-estimator-doc-link.fitted span {\n  /* fitted */\n  background: var(--sklearn-color-fitted-level-0);\n  border: var(--sklearn-color-fitted-level-3);\n}\n\n.sk-estimator-doc-link:hover span {\n  display: block;\n}\n\n/* \"?\"-specific style due to the `<a>` HTML tag */\n\n#sk-container-id-2 a.estimator_doc_link {\n  float: right;\n  font-size: 1rem;\n  line-height: 1em;\n  font-family: monospace;\n  background-color: var(--sklearn-color-background);\n  border-radius: 1rem;\n  height: 1rem;\n  width: 1rem;\n  text-decoration: none;\n  /* unfitted */\n  color: var(--sklearn-color-unfitted-level-1);\n  border: var(--sklearn-color-unfitted-level-1) 1pt solid;\n}\n\n#sk-container-id-2 a.estimator_doc_link.fitted {\n  /* fitted */\n  border: var(--sklearn-color-fitted-level-1) 1pt solid;\n  color: var(--sklearn-color-fitted-level-1);\n}\n\n/* On hover */\n#sk-container-id-2 a.estimator_doc_link:hover {\n  /* unfitted */\n  background-color: var(--sklearn-color-unfitted-level-3);\n  color: var(--sklearn-color-background);\n  text-decoration: none;\n}\n\n#sk-container-id-2 a.estimator_doc_link.fitted:hover {\n  /* fitted */\n  background-color: var(--sklearn-color-fitted-level-3);\n}\n</style><div id=\"sk-container-id-2\" class=\"sk-top-container\"><div class=\"sk-text-repr-fallback\"><pre>SVC(C=100, gamma=1)</pre><b>In a Jupyter environment, please rerun this cell to show the HTML representation or trust the notebook. <br />On GitHub, the HTML representation is unable to render, please try loading this page with nbviewer.org.</b></div><div class=\"sk-container\" hidden><div class=\"sk-item\"><div class=\"sk-estimator fitted sk-toggleable\"><input class=\"sk-toggleable__control sk-hidden--visually\" id=\"sk-estimator-id-2\" type=\"checkbox\" checked><label for=\"sk-estimator-id-2\" class=\"sk-toggleable__label fitted sk-toggleable__label-arrow fitted\">&nbsp;&nbsp;SVC<a class=\"sk-estimator-doc-link fitted\" rel=\"noreferrer\" target=\"_blank\" href=\"https://scikit-learn.org/1.5/modules/generated/sklearn.svm.SVC.html\">?<span>Documentation for SVC</span></a><span class=\"sk-estimator-doc-link fitted\">i<span>Fitted</span></span></label><div class=\"sk-toggleable__content fitted\"><pre>SVC(C=100, gamma=1)</pre></div> </div></div></div></div>"
     },
     "execution_count": 16,
     "metadata": {},
     "output_type": "execute_result"
    }
   ],
   "source": [
    "from imblearn.over_sampling import SMOTE\n",
    "from sklearn.model_selection import train_test_split, GridSearchCV\n",
    "from sklearn.svm import SVC\n",
    "\n",
    "smote = SMOTE(random_state=42)\n",
    "X_train_resampled, y_train_resampled = smote.fit_resample(X_train_vectors_tfidf, y_train)\n",
    "\n",
    "# 使用交叉验证优化SVM参数\n",
    "param_grid = {'C': [0.1, 1, 10, 100], 'gamma': [1, 0.1, 0.01, 0.001], 'kernel': ['linear', 'rbf']}\n",
    "grid = GridSearchCV(SVC(), param_grid, refit=True, verbose=2, cv=5)\n",
    "grid.fit(X_train_resampled, y_train_resampled)\n",
    "print(\"Best parameters found: \", grid.best_params_)\n",
    "\n",
    "# 步骤 8: 训练优化后的SVM模型\n",
    "svm_classifier_optimized = grid.best_estimator_\n",
    "svm_classifier_optimized.fit(X_train_resampled, y_train_resampled)\n"
   ],
   "metadata": {
    "collapsed": false,
    "ExecuteTime": {
     "end_time": "2024-12-06T08:49:10.756997700Z",
     "start_time": "2024-12-06T08:20:27.614182300Z"
    }
   },
   "id": "d5090a80a4fda698"
  },
  {
   "cell_type": "code",
   "execution_count": 17,
   "outputs": [
    {
     "data": {
      "text/plain": "RandomForestClassifier(random_state=42)",
      "text/html": "<style>#sk-container-id-3 {\n  /* Definition of color scheme common for light and dark mode */\n  --sklearn-color-text: black;\n  --sklearn-color-line: gray;\n  /* Definition of color scheme for unfitted estimators */\n  --sklearn-color-unfitted-level-0: #fff5e6;\n  --sklearn-color-unfitted-level-1: #f6e4d2;\n  --sklearn-color-unfitted-level-2: #ffe0b3;\n  --sklearn-color-unfitted-level-3: chocolate;\n  /* Definition of color scheme for fitted estimators */\n  --sklearn-color-fitted-level-0: #f0f8ff;\n  --sklearn-color-fitted-level-1: #d4ebff;\n  --sklearn-color-fitted-level-2: #b3dbfd;\n  --sklearn-color-fitted-level-3: cornflowerblue;\n\n  /* Specific color for light theme */\n  --sklearn-color-text-on-default-background: var(--sg-text-color, var(--theme-code-foreground, var(--jp-content-font-color1, black)));\n  --sklearn-color-background: var(--sg-background-color, var(--theme-background, var(--jp-layout-color0, white)));\n  --sklearn-color-border-box: var(--sg-text-color, var(--theme-code-foreground, var(--jp-content-font-color1, black)));\n  --sklearn-color-icon: #696969;\n\n  @media (prefers-color-scheme: dark) {\n    /* Redefinition of color scheme for dark theme */\n    --sklearn-color-text-on-default-background: var(--sg-text-color, var(--theme-code-foreground, var(--jp-content-font-color1, white)));\n    --sklearn-color-background: var(--sg-background-color, var(--theme-background, var(--jp-layout-color0, #111)));\n    --sklearn-color-border-box: var(--sg-text-color, var(--theme-code-foreground, var(--jp-content-font-color1, white)));\n    --sklearn-color-icon: #878787;\n  }\n}\n\n#sk-container-id-3 {\n  color: var(--sklearn-color-text);\n}\n\n#sk-container-id-3 pre {\n  padding: 0;\n}\n\n#sk-container-id-3 input.sk-hidden--visually {\n  border: 0;\n  clip: rect(1px 1px 1px 1px);\n  clip: rect(1px, 1px, 1px, 1px);\n  height: 1px;\n  margin: -1px;\n  overflow: hidden;\n  padding: 0;\n  position: absolute;\n  width: 1px;\n}\n\n#sk-container-id-3 div.sk-dashed-wrapped {\n  border: 1px dashed var(--sklearn-color-line);\n  margin: 0 0.4em 0.5em 0.4em;\n  box-sizing: border-box;\n  padding-bottom: 0.4em;\n  background-color: var(--sklearn-color-background);\n}\n\n#sk-container-id-3 div.sk-container {\n  /* jupyter's `normalize.less` sets `[hidden] { display: none; }`\n     but bootstrap.min.css set `[hidden] { display: none !important; }`\n     so we also need the `!important` here to be able to override the\n     default hidden behavior on the sphinx rendered scikit-learn.org.\n     See: https://github.com/scikit-learn/scikit-learn/issues/21755 */\n  display: inline-block !important;\n  position: relative;\n}\n\n#sk-container-id-3 div.sk-text-repr-fallback {\n  display: none;\n}\n\ndiv.sk-parallel-item,\ndiv.sk-serial,\ndiv.sk-item {\n  /* draw centered vertical line to link estimators */\n  background-image: linear-gradient(var(--sklearn-color-text-on-default-background), var(--sklearn-color-text-on-default-background));\n  background-size: 2px 100%;\n  background-repeat: no-repeat;\n  background-position: center center;\n}\n\n/* Parallel-specific style estimator block */\n\n#sk-container-id-3 div.sk-parallel-item::after {\n  content: \"\";\n  width: 100%;\n  border-bottom: 2px solid var(--sklearn-color-text-on-default-background);\n  flex-grow: 1;\n}\n\n#sk-container-id-3 div.sk-parallel {\n  display: flex;\n  align-items: stretch;\n  justify-content: center;\n  background-color: var(--sklearn-color-background);\n  position: relative;\n}\n\n#sk-container-id-3 div.sk-parallel-item {\n  display: flex;\n  flex-direction: column;\n}\n\n#sk-container-id-3 div.sk-parallel-item:first-child::after {\n  align-self: flex-end;\n  width: 50%;\n}\n\n#sk-container-id-3 div.sk-parallel-item:last-child::after {\n  align-self: flex-start;\n  width: 50%;\n}\n\n#sk-container-id-3 div.sk-parallel-item:only-child::after {\n  width: 0;\n}\n\n/* Serial-specific style estimator block */\n\n#sk-container-id-3 div.sk-serial {\n  display: flex;\n  flex-direction: column;\n  align-items: center;\n  background-color: var(--sklearn-color-background);\n  padding-right: 1em;\n  padding-left: 1em;\n}\n\n\n/* Toggleable style: style used for estimator/Pipeline/ColumnTransformer box that is\nclickable and can be expanded/collapsed.\n- Pipeline and ColumnTransformer use this feature and define the default style\n- Estimators will overwrite some part of the style using the `sk-estimator` class\n*/\n\n/* Pipeline and ColumnTransformer style (default) */\n\n#sk-container-id-3 div.sk-toggleable {\n  /* Default theme specific background. It is overwritten whether we have a\n  specific estimator or a Pipeline/ColumnTransformer */\n  background-color: var(--sklearn-color-background);\n}\n\n/* Toggleable label */\n#sk-container-id-3 label.sk-toggleable__label {\n  cursor: pointer;\n  display: block;\n  width: 100%;\n  margin-bottom: 0;\n  padding: 0.5em;\n  box-sizing: border-box;\n  text-align: center;\n}\n\n#sk-container-id-3 label.sk-toggleable__label-arrow:before {\n  /* Arrow on the left of the label */\n  content: \"▸\";\n  float: left;\n  margin-right: 0.25em;\n  color: var(--sklearn-color-icon);\n}\n\n#sk-container-id-3 label.sk-toggleable__label-arrow:hover:before {\n  color: var(--sklearn-color-text);\n}\n\n/* Toggleable content - dropdown */\n\n#sk-container-id-3 div.sk-toggleable__content {\n  max-height: 0;\n  max-width: 0;\n  overflow: hidden;\n  text-align: left;\n  /* unfitted */\n  background-color: var(--sklearn-color-unfitted-level-0);\n}\n\n#sk-container-id-3 div.sk-toggleable__content.fitted {\n  /* fitted */\n  background-color: var(--sklearn-color-fitted-level-0);\n}\n\n#sk-container-id-3 div.sk-toggleable__content pre {\n  margin: 0.2em;\n  border-radius: 0.25em;\n  color: var(--sklearn-color-text);\n  /* unfitted */\n  background-color: var(--sklearn-color-unfitted-level-0);\n}\n\n#sk-container-id-3 div.sk-toggleable__content.fitted pre {\n  /* unfitted */\n  background-color: var(--sklearn-color-fitted-level-0);\n}\n\n#sk-container-id-3 input.sk-toggleable__control:checked~div.sk-toggleable__content {\n  /* Expand drop-down */\n  max-height: 200px;\n  max-width: 100%;\n  overflow: auto;\n}\n\n#sk-container-id-3 input.sk-toggleable__control:checked~label.sk-toggleable__label-arrow:before {\n  content: \"▾\";\n}\n\n/* Pipeline/ColumnTransformer-specific style */\n\n#sk-container-id-3 div.sk-label input.sk-toggleable__control:checked~label.sk-toggleable__label {\n  color: var(--sklearn-color-text);\n  background-color: var(--sklearn-color-unfitted-level-2);\n}\n\n#sk-container-id-3 div.sk-label.fitted input.sk-toggleable__control:checked~label.sk-toggleable__label {\n  background-color: var(--sklearn-color-fitted-level-2);\n}\n\n/* Estimator-specific style */\n\n/* Colorize estimator box */\n#sk-container-id-3 div.sk-estimator input.sk-toggleable__control:checked~label.sk-toggleable__label {\n  /* unfitted */\n  background-color: var(--sklearn-color-unfitted-level-2);\n}\n\n#sk-container-id-3 div.sk-estimator.fitted input.sk-toggleable__control:checked~label.sk-toggleable__label {\n  /* fitted */\n  background-color: var(--sklearn-color-fitted-level-2);\n}\n\n#sk-container-id-3 div.sk-label label.sk-toggleable__label,\n#sk-container-id-3 div.sk-label label {\n  /* The background is the default theme color */\n  color: var(--sklearn-color-text-on-default-background);\n}\n\n/* On hover, darken the color of the background */\n#sk-container-id-3 div.sk-label:hover label.sk-toggleable__label {\n  color: var(--sklearn-color-text);\n  background-color: var(--sklearn-color-unfitted-level-2);\n}\n\n/* Label box, darken color on hover, fitted */\n#sk-container-id-3 div.sk-label.fitted:hover label.sk-toggleable__label.fitted {\n  color: var(--sklearn-color-text);\n  background-color: var(--sklearn-color-fitted-level-2);\n}\n\n/* Estimator label */\n\n#sk-container-id-3 div.sk-label label {\n  font-family: monospace;\n  font-weight: bold;\n  display: inline-block;\n  line-height: 1.2em;\n}\n\n#sk-container-id-3 div.sk-label-container {\n  text-align: center;\n}\n\n/* Estimator-specific */\n#sk-container-id-3 div.sk-estimator {\n  font-family: monospace;\n  border: 1px dotted var(--sklearn-color-border-box);\n  border-radius: 0.25em;\n  box-sizing: border-box;\n  margin-bottom: 0.5em;\n  /* unfitted */\n  background-color: var(--sklearn-color-unfitted-level-0);\n}\n\n#sk-container-id-3 div.sk-estimator.fitted {\n  /* fitted */\n  background-color: var(--sklearn-color-fitted-level-0);\n}\n\n/* on hover */\n#sk-container-id-3 div.sk-estimator:hover {\n  /* unfitted */\n  background-color: var(--sklearn-color-unfitted-level-2);\n}\n\n#sk-container-id-3 div.sk-estimator.fitted:hover {\n  /* fitted */\n  background-color: var(--sklearn-color-fitted-level-2);\n}\n\n/* Specification for estimator info (e.g. \"i\" and \"?\") */\n\n/* Common style for \"i\" and \"?\" */\n\n.sk-estimator-doc-link,\na:link.sk-estimator-doc-link,\na:visited.sk-estimator-doc-link {\n  float: right;\n  font-size: smaller;\n  line-height: 1em;\n  font-family: monospace;\n  background-color: var(--sklearn-color-background);\n  border-radius: 1em;\n  height: 1em;\n  width: 1em;\n  text-decoration: none !important;\n  margin-left: 1ex;\n  /* unfitted */\n  border: var(--sklearn-color-unfitted-level-1) 1pt solid;\n  color: var(--sklearn-color-unfitted-level-1);\n}\n\n.sk-estimator-doc-link.fitted,\na:link.sk-estimator-doc-link.fitted,\na:visited.sk-estimator-doc-link.fitted {\n  /* fitted */\n  border: var(--sklearn-color-fitted-level-1) 1pt solid;\n  color: var(--sklearn-color-fitted-level-1);\n}\n\n/* On hover */\ndiv.sk-estimator:hover .sk-estimator-doc-link:hover,\n.sk-estimator-doc-link:hover,\ndiv.sk-label-container:hover .sk-estimator-doc-link:hover,\n.sk-estimator-doc-link:hover {\n  /* unfitted */\n  background-color: var(--sklearn-color-unfitted-level-3);\n  color: var(--sklearn-color-background);\n  text-decoration: none;\n}\n\ndiv.sk-estimator.fitted:hover .sk-estimator-doc-link.fitted:hover,\n.sk-estimator-doc-link.fitted:hover,\ndiv.sk-label-container:hover .sk-estimator-doc-link.fitted:hover,\n.sk-estimator-doc-link.fitted:hover {\n  /* fitted */\n  background-color: var(--sklearn-color-fitted-level-3);\n  color: var(--sklearn-color-background);\n  text-decoration: none;\n}\n\n/* Span, style for the box shown on hovering the info icon */\n.sk-estimator-doc-link span {\n  display: none;\n  z-index: 9999;\n  position: relative;\n  font-weight: normal;\n  right: .2ex;\n  padding: .5ex;\n  margin: .5ex;\n  width: min-content;\n  min-width: 20ex;\n  max-width: 50ex;\n  color: var(--sklearn-color-text);\n  box-shadow: 2pt 2pt 4pt #999;\n  /* unfitted */\n  background: var(--sklearn-color-unfitted-level-0);\n  border: .5pt solid var(--sklearn-color-unfitted-level-3);\n}\n\n.sk-estimator-doc-link.fitted span {\n  /* fitted */\n  background: var(--sklearn-color-fitted-level-0);\n  border: var(--sklearn-color-fitted-level-3);\n}\n\n.sk-estimator-doc-link:hover span {\n  display: block;\n}\n\n/* \"?\"-specific style due to the `<a>` HTML tag */\n\n#sk-container-id-3 a.estimator_doc_link {\n  float: right;\n  font-size: 1rem;\n  line-height: 1em;\n  font-family: monospace;\n  background-color: var(--sklearn-color-background);\n  border-radius: 1rem;\n  height: 1rem;\n  width: 1rem;\n  text-decoration: none;\n  /* unfitted */\n  color: var(--sklearn-color-unfitted-level-1);\n  border: var(--sklearn-color-unfitted-level-1) 1pt solid;\n}\n\n#sk-container-id-3 a.estimator_doc_link.fitted {\n  /* fitted */\n  border: var(--sklearn-color-fitted-level-1) 1pt solid;\n  color: var(--sklearn-color-fitted-level-1);\n}\n\n/* On hover */\n#sk-container-id-3 a.estimator_doc_link:hover {\n  /* unfitted */\n  background-color: var(--sklearn-color-unfitted-level-3);\n  color: var(--sklearn-color-background);\n  text-decoration: none;\n}\n\n#sk-container-id-3 a.estimator_doc_link.fitted:hover {\n  /* fitted */\n  background-color: var(--sklearn-color-fitted-level-3);\n}\n</style><div id=\"sk-container-id-3\" class=\"sk-top-container\"><div class=\"sk-text-repr-fallback\"><pre>RandomForestClassifier(random_state=42)</pre><b>In a Jupyter environment, please rerun this cell to show the HTML representation or trust the notebook. <br />On GitHub, the HTML representation is unable to render, please try loading this page with nbviewer.org.</b></div><div class=\"sk-container\" hidden><div class=\"sk-item\"><div class=\"sk-estimator fitted sk-toggleable\"><input class=\"sk-toggleable__control sk-hidden--visually\" id=\"sk-estimator-id-3\" type=\"checkbox\" checked><label for=\"sk-estimator-id-3\" class=\"sk-toggleable__label fitted sk-toggleable__label-arrow fitted\">&nbsp;&nbsp;RandomForestClassifier<a class=\"sk-estimator-doc-link fitted\" rel=\"noreferrer\" target=\"_blank\" href=\"https://scikit-learn.org/1.5/modules/generated/sklearn.ensemble.RandomForestClassifier.html\">?<span>Documentation for RandomForestClassifier</span></a><span class=\"sk-estimator-doc-link fitted\">i<span>Fitted</span></span></label><div class=\"sk-toggleable__content fitted\"><pre>RandomForestClassifier(random_state=42)</pre></div> </div></div></div></div>"
     },
     "execution_count": 17,
     "metadata": {},
     "output_type": "execute_result"
    }
   ],
   "source": [
    "#Использование случайного леса.使用随机森林模型进行分类\n",
    "from sklearn.ensemble import RandomForestClassifier\n",
    "rf_classifier = RandomForestClassifier(n_estimators=100, random_state=42)\n",
    "rf_classifier.fit(X_train_resampled, y_train_resampled)\n"
   ],
   "metadata": {
    "collapsed": false,
    "ExecuteTime": {
     "end_time": "2024-12-06T08:49:31.879270800Z",
     "start_time": "2024-12-06T08:49:20.875671200Z"
    }
   },
   "id": "157e1a400e615fae"
  },
  {
   "cell_type": "markdown",
   "source": [
    "# Оценка модели."
   ],
   "metadata": {
    "collapsed": false
   },
   "id": "43a8a242912b07fd"
  },
  {
   "cell_type": "code",
   "execution_count": 18,
   "outputs": [
    {
     "name": "stdout",
     "output_type": "stream",
     "text": [
      "Classification report for optimized SVM:\n",
      "              precision    recall  f1-score   support\n",
      "\n",
      "    business       0.42      0.59      0.49        79\n",
      "     culture       0.86      0.80      0.83       279\n",
      "   economics       0.81      0.73      0.77       266\n",
      "      forces       0.70      0.88      0.78       149\n",
      "        life       0.73      0.73      0.73       288\n",
      "       media       0.82      0.74      0.78       299\n",
      "     science       0.88      0.80      0.84       288\n",
      "       sport       0.95      0.96      0.96       276\n",
      "       style       0.84      0.84      0.84        38\n",
      "      travel       0.41      0.68      0.51        38\n",
      "\n",
      "    accuracy                           0.79      2000\n",
      "   macro avg       0.74      0.78      0.75      2000\n",
      "weighted avg       0.80      0.79      0.79      2000\n",
      "\n",
      "Classification report for Random Forest:\n",
      "              precision    recall  f1-score   support\n",
      "\n",
      "    business       0.44      0.41      0.42        79\n",
      "     culture       0.84      0.81      0.83       279\n",
      "   economics       0.75      0.80      0.77       266\n",
      "      forces       0.68      0.86      0.76       149\n",
      "        life       0.70      0.71      0.71       288\n",
      "       media       0.77      0.71      0.74       299\n",
      "     science       0.87      0.75      0.81       288\n",
      "       sport       0.92      0.96      0.94       276\n",
      "       style       0.84      0.71      0.77        38\n",
      "      travel       0.44      0.55      0.49        38\n",
      "\n",
      "    accuracy                           0.77      2000\n",
      "   macro avg       0.73      0.73      0.72      2000\n",
      "weighted avg       0.78      0.77      0.77      2000\n"
     ]
    }
   ],
   "source": [
    "from sklearn.metrics import classification_report\n",
    "y_pred_svm = svm_classifier_optimized.predict(X_test_vectors_tfidf)\n",
    "y_pred_rf = rf_classifier.predict(X_test_vectors_tfidf)\n",
    "\n",
    "print(\"Classification report for optimized SVM:\")\n",
    "print(classification_report(y_test, y_pred_svm))\n",
    "\n",
    "print(\"Classification report for Random Forest:\")\n",
    "print(classification_report(y_test, y_pred_rf))"
   ],
   "metadata": {
    "collapsed": false,
    "ExecuteTime": {
     "end_time": "2024-12-06T08:50:58.731108400Z",
     "start_time": "2024-12-06T08:50:56.723191800Z"
    }
   },
   "id": "d90522d9e221f6f"
  }
 ],
 "metadata": {
  "kernelspec": {
   "display_name": "Python 3",
   "language": "python",
   "name": "python3"
  },
  "language_info": {
   "codemirror_mode": {
    "name": "ipython",
    "version": 2
   },
   "file_extension": ".py",
   "mimetype": "text/x-python",
   "name": "python",
   "nbconvert_exporter": "python",
   "pygments_lexer": "ipython2",
   "version": "2.7.6"
  }
 },
 "nbformat": 4,
 "nbformat_minor": 5
}
